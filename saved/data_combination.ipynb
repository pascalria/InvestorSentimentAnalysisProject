{
 "cells": [
  {
   "cell_type": "code",
   "execution_count": 2,
   "metadata": {},
   "outputs": [],
   "source": [
    "import csv\n",
    "import os\n",
    "import pandas as pd"
   ]
  },
  {
   "cell_type": "markdown",
   "metadata": {},
   "source": [
    "# 读取所有分片数据进列表"
   ]
  },
  {
   "cell_type": "code",
   "execution_count": 2,
   "metadata": {},
   "outputs": [
    {
     "name": "stdout",
     "output_type": "stream",
     "text": [
      "280\n"
     ]
    }
   ],
   "source": [
    "dataset = list()\n",
    "for i in range(280):\n",
    "    file_name = os.path.join(r'E:\\resources\\project\\bert\\bert-master\\data_collection', 'request'+str(i)+'.csv')\n",
    "    # print(file_name)\n",
    "    with open(file_name, 'r', encoding='utf-8') as file:\n",
    "        data = pd.read_csv(file_name)\n",
    "        dataset.append(data)\n",
    "\n",
    "print(len(dataset))\n"
   ]
  },
  {
   "cell_type": "code",
   "execution_count": 3,
   "metadata": {},
   "outputs": [
    {
     "name": "stdout",
     "output_type": "stream",
     "text": [
      "<class 'pandas.core.frame.DataFrame'>\n"
     ]
    }
   ],
   "source": [
    "print(type(dataset[80]))"
   ]
  },
  {
   "cell_type": "markdown",
   "metadata": {},
   "source": [
    "# 删除相邻文件的重复行（由于爬虫延时产生）"
   ]
  },
  {
   "cell_type": "code",
   "execution_count": 4,
   "metadata": {},
   "outputs": [
    {
     "name": "stdout",
     "output_type": "stream",
     "text": [
      "the same rows in 6 and 7 are from 2799 to 2799\n",
      "the same rows in 18 and 19 are from 2799 to 2799\n",
      "the same rows in 19 and 20 are from 2366 to 2799\n",
      "the same rows in 20 and 21 are from 2794 to 2799\n",
      "the same rows in 21 and 22 are from 2789 to 2799\n",
      "the same rows in 22 and 23 are from 2797 to 2799\n",
      "the same rows in 23 and 24 are from 2796 to 2799\n",
      "the same rows in 24 and 25 are from 2785 to 2799\n",
      "the same rows in 25 and 26 are from 2765 to 2799\n",
      "the same rows in 26 and 27 are from 2742 to 2799\n",
      "the same rows in 27 and 28 are from 2751 to 2799\n",
      "the same rows in 28 and 29 are from 2776 to 2799\n",
      "the same rows in 29 and 30 are from 2787 to 2799\n",
      "the same rows in 30 and 31 are from 2780 to 2799\n",
      "the same rows in 31 and 32 are from 2780 to 2799\n",
      "the same rows in 32 and 33 are from 2793 to 2799\n",
      "the same rows in 33 and 34 are from 2789 to 2799\n",
      "the same rows in 34 and 35 are from 2793 to 2799\n",
      "the same rows in 35 and 36 are from 2795 to 2799\n",
      "the same rows in 36 and 37 are from 2796 to 2799\n",
      "the same rows in 37 and 38 are from 2799 to 2799\n",
      "the same rows in 38 and 39 are from 2798 to 2799\n",
      "the same rows in 39 and 40 are from 2799 to 2799\n",
      "the same rows in 41 and 42 are from 2795 to 2799\n",
      "the same rows in 42 and 43 are from 2797 to 2799\n",
      "the same rows in 43 and 44 are from 2798 to 2799\n",
      "the same rows in 45 and 46 are from 2797 to 2799\n",
      "the same rows in 46 and 47 are from 2799 to 2799\n",
      "the same rows in 48 and 49 are from 2798 to 2799\n",
      "the same rows in 50 and 51 are from 2799 to 2799\n",
      "the same rows in 51 and 52 are from 2797 to 2799\n",
      "the same rows in 56 and 57 are from 2798 to 2799\n",
      "the same rows in 57 and 58 are from 2796 to 2799\n",
      "the same rows in 59 and 60 are from 2797 to 2799\n",
      "the same rows in 60 and 61 are from 2798 to 2799\n",
      "the same rows in 62 and 63 are from 2796 to 2799\n",
      "the same rows in 64 and 65 are from 2797 to 2799\n",
      "the same rows in 66 and 67 are from 2798 to 2799\n",
      "the same rows in 67 and 68 are from 2798 to 2799\n",
      "the same rows in 68 and 69 are from 2799 to 2799\n",
      "the same rows in 69 and 70 are from 2799 to 2799\n",
      "the same rows in 70 and 71 are from 2799 to 2799\n",
      "the same rows in 71 and 72 are from 2798 to 2799\n",
      "the same rows in 72 and 73 are from 2798 to 2799\n",
      "the same rows in 73 and 74 are from 2798 to 2799\n",
      "the same rows in 75 and 76 are from 2799 to 2799\n",
      "the same rows in 76 and 77 are from 2798 to 2799\n",
      "the same rows in 77 and 78 are from 2799 to 2799\n",
      "the same rows in 80 and 81 are from 2799 to 2799\n",
      "the same rows in 85 and 86 are from 2799 to 2799\n",
      "the same rows in 87 and 88 are from 2799 to 2799\n",
      "the same rows in 91 and 92 are from 2798 to 2798\n",
      "the same rows in 102 and 103 are from 2799 to 2799\n",
      "the same rows in 104 and 105 are from 2799 to 2799\n",
      "the same rows in 106 and 107 are from 2799 to 2799\n",
      "the same rows in 109 and 110 are from 2799 to 2799\n",
      "the same rows in 113 and 114 are from 2799 to 2799\n",
      "the same rows in 114 and 115 are from 2799 to 2799\n",
      "the same rows in 115 and 116 are from 2799 to 2799\n",
      "the same rows in 117 and 118 are from 2799 to 2799\n",
      "the same rows in 122 and 123 are from 2799 to 2799\n",
      "the same rows in 123 and 124 are from 2799 to 2799\n",
      "the same rows in 124 and 125 are from 2794 to 2799\n",
      "the same rows in 125 and 126 are from 2799 to 2799\n",
      "the same rows in 126 and 127 are from 2774 to 2799\n",
      "the same rows in 127 and 128 are from 2792 to 2799\n",
      "the same rows in 128 and 129 are from 2760 to 2799\n",
      "the same rows in 129 and 130 are from 2780 to 2799\n",
      "the same rows in 130 and 131 are from 2778 to 2799\n",
      "the same rows in 131 and 132 are from 2785 to 2799\n",
      "the same rows in 132 and 133 are from 2791 to 2799\n",
      "the same rows in 133 and 134 are from 2785 to 2799\n",
      "the same rows in 134 and 135 are from 2780 to 2799\n",
      "the same rows in 135 and 136 are from 2794 to 2799\n",
      "the same rows in 136 and 137 are from 2796 to 2799\n",
      "the same rows in 137 and 138 are from 2792 to 2799\n",
      "the same rows in 138 and 139 are from 2797 to 2799\n",
      "the same rows in 139 and 140 are from 2798 to 2799\n",
      "the same rows in 141 and 142 are from 2798 to 2799\n",
      "the same rows in 142 and 143 are from 2799 to 2799\n",
      "the same rows in 143 and 144 are from 2798 to 2799\n",
      "the same rows in 144 and 145 are from 2792 to 2799\n",
      "the same rows in 145 and 146 are from 2784 to 2799\n",
      "the same rows in 146 and 147 are from 2787 to 2799\n",
      "the same rows in 147 and 148 are from 2785 to 2799\n",
      "the same rows in 148 and 149 are from 2780 to 2799\n",
      "the same rows in 149 and 150 are from 2793 to 2799\n",
      "the same rows in 150 and 151 are from 2793 to 2799\n",
      "the same rows in 151 and 152 are from 2796 to 2799\n",
      "the same rows in 152 and 153 are from 2790 to 2799\n",
      "the same rows in 153 and 154 are from 2794 to 2799\n",
      "the same rows in 154 and 155 are from 2794 to 2799\n",
      "the same rows in 155 and 156 are from 2798 to 2799\n",
      "the same rows in 156 and 157 are from 2798 to 2799\n",
      "the same rows in 157 and 158 are from 2798 to 2799\n",
      "the same rows in 158 and 159 are from 2799 to 2799\n",
      "the same rows in 160 and 161 are from 2797 to 2799\n",
      "the same rows in 162 and 163 are from 2796 to 2799\n",
      "the same rows in 163 and 164 are from 2799 to 2799\n",
      "the same rows in 164 and 165 are from 2798 to 2799\n",
      "the same rows in 165 and 166 are from 2797 to 2799\n",
      "the same rows in 168 and 169 are from 2798 to 2799\n",
      "the same rows in 172 and 173 are from 2799 to 2799\n",
      "the same rows in 176 and 177 are from 2799 to 2799\n",
      "the same rows in 177 and 178 are from 2799 to 2799\n",
      "the same rows in 178 and 179 are from 2798 to 2799\n",
      "the same rows in 179 and 180 are from 2799 to 2799\n",
      "the same rows in 180 and 181 are from 2798 to 2799\n",
      "the same rows in 181 and 182 are from 2797 to 2799\n",
      "the same rows in 182 and 183 are from 2798 to 2799\n",
      "the same rows in 186 and 187 are from 2799 to 2799\n",
      "the same rows in 193 and 194 are from 2799 to 2799\n",
      "the same rows in 194 and 195 are from 2799 to 2799\n",
      "the same rows in 196 and 197 are from 2799 to 2799\n",
      "the same rows in 200 and 201 are from 2798 to 2799\n",
      "the same rows in 202 and 203 are from 2797 to 2799\n",
      "the same rows in 203 and 204 are from 2798 to 2798\n",
      "the same rows in 205 and 206 are from 2798 to 2799\n",
      "the same rows in 211 and 212 are from 2799 to 2799\n",
      "the same rows in 213 and 214 are from 2799 to 2799\n",
      "the same rows in 214 and 215 are from 2799 to 2799\n",
      "the same rows in 215 and 216 are from 2798 to 2798\n",
      "the same rows in 217 and 218 are from 2798 to 2798\n",
      "the same rows in 222 and 223 are from 2797 to 2797\n",
      "the same rows in 224 and 225 are from 2449 to 2449\n",
      "the same rows in 226 and 227 are from 2799 to 2799\n",
      "the same rows in 227 and 228 are from 2798 to 2799\n",
      "the same rows in 228 and 229 are from 2799 to 2799\n",
      "the same rows in 230 and 231 are from 2795 to 2795\n",
      "the same rows in 232 and 233 are from 2799 to 2799\n",
      "the same rows in 233 and 234 are from 2798 to 2799\n",
      "the same rows in 234 and 235 are from 2799 to 2799\n",
      "the same rows in 235 and 236 are from 2799 to 2799\n",
      "the same rows in 238 and 239 are from 2798 to 2798\n",
      "the same rows in 239 and 240 are from 2799 to 2799\n",
      "the same rows in 240 and 241 are from 2796 to 2799\n",
      "the same rows in 242 and 243 are from 2799 to 2799\n",
      "the same rows in 244 and 245 are from 2797 to 2799\n",
      "the same rows in 245 and 246 are from 2796 to 2798\n",
      "the same rows in 246 and 247 are from 2793 to 2797\n",
      "the same rows in 247 and 248 are from 2778 to 2799\n",
      "the same rows in 248 and 249 are from 2772 to 2799\n",
      "the same rows in 249 and 250 are from 2773 to 2799\n",
      "the same rows in 250 and 251 are from 2793 to 2799\n",
      "the same rows in 251 and 252 are from 2790 to 2799\n",
      "the same rows in 252 and 253 are from 2791 to 2798\n",
      "the same rows in 253 and 254 are from 2790 to 2798\n",
      "the same rows in 254 and 255 are from 2777 to 2799\n",
      "the same rows in 255 and 256 are from 2779 to 2799\n",
      "the same rows in 256 and 257 are from 2782 to 2798\n",
      "the same rows in 257 and 258 are from 2772 to 2799\n",
      "the same rows in 258 and 259 are from 2791 to 2797\n",
      "the same rows in 259 and 260 are from 2788 to 2798\n",
      "the same rows in 260 and 261 are from 2790 to 2798\n",
      "the same rows in 261 and 262 are from 2797 to 2798\n",
      "the same rows in 262 and 263 are from 2792 to 2799\n",
      "the same rows in 263 and 264 are from 2798 to 2799\n",
      "the same rows in 264 and 265 are from 2790 to 2799\n",
      "the same rows in 265 and 266 are from 2770 to 2798\n",
      "the same rows in 266 and 267 are from 2779 to 2798\n",
      "the same rows in 267 and 268 are from 2786 to 2799\n",
      "the same rows in 268 and 269 are from 2781 to 2799\n",
      "the same rows in 269 and 270 are from 2782 to 2797\n",
      "the same rows in 270 and 271 are from 2772 to 2799\n",
      "the same rows in 271 and 272 are from 2771 to 2799\n",
      "the same rows in 272 and 273 are from 2743 to 2799\n",
      "the same rows in 273 and 274 are from 2769 to 2798\n",
      "the same rows in 274 and 275 are from 2782 to 2799\n",
      "the same rows in 275 and 276 are from 2779 to 2797\n",
      "the same rows in 276 and 277 are from 2790 to 2798\n",
      "the same rows in 277 and 278 are from 2788 to 2797\n",
      "the same rows in 278 and 279 are from 2795 to 2799\n",
      "172\n"
     ]
    }
   ],
   "source": [
    "\n",
    "year = 2024\n",
    "count = 0\n",
    "\n",
    "for i in range(len(dataset)):\n",
    "     # print('current table length: ' + str(len(dataset[i])))\n",
    "     # print(dataset[i].iloc[0].values)\n",
    "\n",
    "     if i != 0:\n",
    "          target = dataset[i].iloc[0]\n",
    "          # print(target.values)\n",
    "\n",
    "          for j in range(len(dataset[i-1])):\n",
    "\n",
    "               current = dataset[i-1].iloc[j]\n",
    "               # print(current.values)\n",
    "\n",
    "               if target.equals(current) == True:\n",
    "\n",
    "                    count += 1\n",
    "                    print('the same rows in %d and %d are from %d to %d' % (i-1,i,j, len(dataset[i-1])-1))\n",
    "                    dataset[6].drop(dataset[6].index[(j):(len(dataset[i-1]))], inplace=True)\n",
    "\n",
    "print(count)\n"
   ]
  },
  {
   "cell_type": "markdown",
   "metadata": {},
   "source": [
    "# 合并数据表"
   ]
  },
  {
   "cell_type": "code",
   "execution_count": 5,
   "metadata": {},
   "outputs": [
    {
     "name": "stdout",
     "output_type": "stream",
     "text": [
      "782992\n"
     ]
    },
    {
     "data": {
      "text/html": [
       "<div>\n",
       "<style scoped>\n",
       "    .dataframe tbody tr th:only-of-type {\n",
       "        vertical-align: middle;\n",
       "    }\n",
       "\n",
       "    .dataframe tbody tr th {\n",
       "        vertical-align: top;\n",
       "    }\n",
       "\n",
       "    .dataframe thead th {\n",
       "        text-align: right;\n",
       "    }\n",
       "</style>\n",
       "<table border=\"1\" class=\"dataframe\">\n",
       "  <thead>\n",
       "    <tr style=\"text-align: right;\">\n",
       "      <th></th>\n",
       "      <th>Upload Time</th>\n",
       "      <th>Read</th>\n",
       "      <th>Author</th>\n",
       "      <th>Title</th>\n",
       "    </tr>\n",
       "  </thead>\n",
       "  <tbody>\n",
       "    <tr>\n",
       "      <th>0</th>\n",
       "      <td>01-23 11:46</td>\n",
       "      <td>3</td>\n",
       "      <td>真诚的范芝蔓</td>\n",
       "      <td>创业板聪明的去年都在顶部跑了还剩下一地鸡毛</td>\n",
       "    </tr>\n",
       "    <tr>\n",
       "      <th>1</th>\n",
       "      <td>01-23 11:45</td>\n",
       "      <td>2</td>\n",
       "      <td>生意亨通de孙膑</td>\n",
       "      <td>今年一月基金平均值居然跌了近百分之十，这是一个相当罕见的大事，因为大盘跌了三年了</td>\n",
       "    </tr>\n",
       "    <tr>\n",
       "      <th>2</th>\n",
       "      <td>01-23 11:22</td>\n",
       "      <td>135</td>\n",
       "      <td>股海有花_小号</td>\n",
       "      <td>逆势大涨，也只是开始！</td>\n",
       "    </tr>\n",
       "    <tr>\n",
       "      <th>3</th>\n",
       "      <td>01-23 11:14</td>\n",
       "      <td>23</td>\n",
       "      <td>线上持破位走</td>\n",
       "      <td>欢迎回到1200</td>\n",
       "    </tr>\n",
       "    <tr>\n",
       "      <th>4</th>\n",
       "      <td>01-23 11:08</td>\n",
       "      <td>169</td>\n",
       "      <td>东游8戒</td>\n",
       "      <td>天字号利好脚步声，确实临近了！</td>\n",
       "    </tr>\n",
       "  </tbody>\n",
       "</table>\n",
       "</div>"
      ],
      "text/plain": [
       "   Upload Time  Read    Author                                     Title\n",
       "0  01-23 11:46     3    真诚的范芝蔓                     创业板聪明的去年都在顶部跑了还剩下一地鸡毛\n",
       "1  01-23 11:45     2  生意亨通de孙膑  今年一月基金平均值居然跌了近百分之十，这是一个相当罕见的大事，因为大盘跌了三年了\n",
       "2  01-23 11:22   135   股海有花_小号                               逆势大涨，也只是开始！\n",
       "3  01-23 11:14    23    线上持破位走                                  欢迎回到1200\n",
       "4  01-23 11:08   169      东游8戒                           天字号利好脚步声，确实临近了！"
      ]
     },
     "execution_count": 5,
     "metadata": {},
     "output_type": "execute_result"
    }
   ],
   "source": [
    "merged_data = pd.DataFrame()\n",
    "for i in range(len(dataset)):\n",
    "    merged_data = pd.concat([merged_data, dataset[i]], ignore_index=True)\n",
    "print(len(merged_data))\n",
    "merged_data.head()"
   ]
  },
  {
   "cell_type": "code",
   "execution_count": 6,
   "metadata": {},
   "outputs": [
    {
     "name": "stdout",
     "output_type": "stream",
     "text": [
      "01-23 11:46\n"
     ]
    }
   ],
   "source": [
    "merged_data.head()\n",
    "merged_data.tail()\n",
    "print(merged_data.iloc[0,0])"
   ]
  },
  {
   "cell_type": "markdown",
   "metadata": {},
   "source": [
    "# 增加年份"
   ]
  },
  {
   "cell_type": "code",
   "execution_count": 7,
   "metadata": {},
   "outputs": [
    {
     "name": "stdout",
     "output_type": "stream",
     "text": [
      "current year: 2023\n",
      "current year: 2022\n",
      "current year: 2021\n",
      "current year: 2020\n",
      "current year: 2019\n",
      "current year: 2018\n",
      "current year: 2017\n",
      "current year: 2016\n",
      "current year: 2015\n",
      "9\n"
     ]
    }
   ],
   "source": [
    "year = 2024\n",
    "count = 0\n",
    "\n",
    "for i in range(len(merged_data)):\n",
    "    if i != 0:\n",
    "        last = merged_data.iloc[i-1,0]\n",
    "        next = merged_data.iloc[i,0]\n",
    "        # print((int(last[5:7]),int(next[0:2])))\n",
    "\n",
    "        if int(last[5:7]) < int(next[0:2]):\n",
    "            count += 1\n",
    "            year -= 1\n",
    "            print('current year: %d' % year)\n",
    "            merged_data.iloc[i,0] = str(year) + '-' + merged_data.iloc[i,0]\n",
    "\n",
    "        else:\n",
    "            merged_data.iloc[i,0] = str(year) + '-' + merged_data.iloc[i,0]\n",
    "            \n",
    "    else:\n",
    "        merged_data.iloc[i,0] = str(year) + '-' + merged_data.iloc[i,0]\n",
    "\n",
    "print(count)"
   ]
  },
  {
   "cell_type": "code",
   "execution_count": 8,
   "metadata": {},
   "outputs": [
    {
     "name": "stdout",
     "output_type": "stream",
     "text": [
      "2015-12-25 02:32\n"
     ]
    }
   ],
   "source": [
    "merged_data.head()\n",
    "merged_data.tail()\n",
    "print(merged_data.iloc[-1,0])"
   ]
  },
  {
   "cell_type": "markdown",
   "metadata": {},
   "source": [
    "# 保存为csv"
   ]
  },
  {
   "cell_type": "code",
   "execution_count": null,
   "metadata": {},
   "outputs": [],
   "source": [
    "merged_data.to_csv('comment.csv',index=False)"
   ]
  },
  {
   "cell_type": "markdown",
   "metadata": {},
   "source": [
    "# csv转tsv"
   ]
  },
  {
   "cell_type": "code",
   "execution_count": 3,
   "metadata": {},
   "outputs": [],
   "source": [
    "with open(r'comment.csv', 'r', encoding='utf-8') as file:\n",
    "    csv_reader = csv.reader(file)\n",
    "    \n",
    "    with open(r'comment.tsv', 'w', newline='', encoding='utf-8') as tsv:\n",
    "        tsv_writer = csv.writer(tsv, delimiter='\\t')\n",
    "        \n",
    "        for row in csv_reader:\n",
    "            tsv_writer.writerow(row)"
   ]
  },
  {
   "cell_type": "code",
   "execution_count": 1,
   "metadata": {},
   "outputs": [
    {
     "ename": "NameError",
     "evalue": "name 'merged_data' is not defined",
     "output_type": "error",
     "traceback": [
      "\u001b[1;31m---------------------------------------------------------------------------\u001b[0m",
      "\u001b[1;31mNameError\u001b[0m                                 Traceback (most recent call last)",
      "Cell \u001b[1;32mIn[1], line 1\u001b[0m\n\u001b[1;32m----> 1\u001b[0m result2 \u001b[38;5;241m=\u001b[39m \u001b[43mmerged_data\u001b[49m[merged_data[\u001b[38;5;124m'\u001b[39m\u001b[38;5;124mUpload Time\u001b[39m\u001b[38;5;124m'\u001b[39m] \u001b[38;5;241m==\u001b[39m \u001b[38;5;124m'\u001b[39m\u001b[38;5;124m2023-12-06 04:41\u001b[39m\u001b[38;5;124m'\u001b[39m]\n\u001b[0;32m      2\u001b[0m \u001b[38;5;28mprint\u001b[39m(result2)\n",
      "\u001b[1;31mNameError\u001b[0m: name 'merged_data' is not defined"
     ]
    }
   ],
   "source": [
    "result2 = merged_data[merged_data['Upload Time'] == '2023-12-06 04:41']\n",
    "print(result2)"
   ]
  }
 ],
 "metadata": {
  "kernelspec": {
   "display_name": "finbert",
   "language": "python",
   "name": "finbert"
  },
  "language_info": {
   "codemirror_mode": {
    "name": "ipython",
    "version": 3
   },
   "file_extension": ".py",
   "mimetype": "text/x-python",
   "name": "python",
   "nbconvert_exporter": "python",
   "pygments_lexer": "ipython3",
   "version": "3.9.18"
  }
 },
 "nbformat": 4,
 "nbformat_minor": 2
}
