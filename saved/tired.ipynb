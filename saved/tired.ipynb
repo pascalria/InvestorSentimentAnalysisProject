{
 "cells": [
  {
   "cell_type": "code",
   "execution_count": 1,
   "metadata": {},
   "outputs": [],
   "source": [
    "import csv"
   ]
  },
  {
   "cell_type": "code",
   "execution_count": 2,
   "metadata": {},
   "outputs": [],
   "source": [
    "with open(r'E:\\resources\\project\\bert\\bert-master\\data_collection\\saved\\comment.csv', 'r', encoding='utf-8') as f:\n",
    "    readerd = csv.reader(f)\n",
    "    data_rows = list(readerd)\n",
    "    data_rows.reverse()"
   ]
  },
  {
   "cell_type": "code",
   "execution_count": 8,
   "metadata": {},
   "outputs": [],
   "source": [
    "with open(r'E:\\resources\\project\\bert\\bert-master\\data_collection\\saved\\new_labels.csv', 'r', encoding='utf-8') as f:\n",
    "    readerl = csv.reader(f)\n",
    "    next(readerl)\n",
    "    label_rows = list(readerl)\n"
   ]
  },
  {
   "cell_type": "code",
   "execution_count": 9,
   "metadata": {},
   "outputs": [
    {
     "name": "stdout",
     "output_type": "stream",
     "text": [
      "[['neutral'], ['positive'], ['positive'], ['negative'], ['positive'], ['neutral'], ['positive'], ['negative'], ['positive'], ['positive'], ['negative'], ['neutral'], ['negative'], ['positive'], ['positive'], ['negative'], ['negative'], ['positive'], ['neutral'], ['neutral'], ['positive'], ['neutral'], ['positive'], ['positive'], ['neutral'], ['negative'], ['positive'], ['positive'], ['positive'], ['positive'], ['positive'], ['negative'], ['negative'], ['positive'], ['positive'], ['negative'], ['negative'], ['negative'], ['negative'], ['neutral'], ['positive'], ['negative'], ['negative'], ['negative'], ['positive'], ['positive'], ['negative'], ['negative'], ['neutral'], ['positive'], ['negative'], ['negative'], ['negative'], ['neutral'], ['negative'], ['negative'], ['negative'], ['positive'], ['negative'], ['positive'], ['negative'], ['neutral'], ['negative'], ['negative'], ['negative'], ['negative'], ['negative'], ['negative'], ['negative'], ['negative'], ['positive'], ['negative'], ['negative'], ['negative'], ['neutral'], ['neutral'], ['negative'], ['negative'], ['positive'], ['negative'], ['negative'], ['negative'], ['neutral'], ['negative'], ['negative'], ['negative'], ['negative'], ['neutral'], ['negative'], ['negative'], ['neutral'], ['negative'], ['positive'], ['negative'], ['negative'], ['negative'], ['positive'], ['negative'], ['negative'], ['positive'], ['negative'], ['negative'], ['negative'], ['negative'], ['negative'], ['neutral'], ['positive'], ['negative'], ['positive'], ['negative'], ['neutral'], ['positive'], ['neutral'], ['neutral'], ['positive'], ['negative'], ['positive'], ['negative'], ['negative'], ['neutral'], ['negative'], ['neutral'], ['negative'], ['negative'], ['negative'], ['negative'], ['neutral'], ['negative'], ['negative'], ['positive'], ['negative'], ['negative'], ['negative'], ['positive'], ['positive'], ['neutral'], ['neutral'], ['positive'], ['neutral'], ['positive'], ['positive'], ['positive'], ['neutral'], ['neutral'], ['neutral'], ['positive'], ['positive'], ['positive'], ['positive'], ['positive'], ['positive'], ['negative'], ['neutral'], ['neutral'], ['neutral'], ['positive'], ['positive'], ['positive'], ['positive'], ['neutral'], ['positive'], ['negative'], ['negative'], ['neutral'], ['positive'], ['positive'], ['positive'], ['positive'], ['positive'], ['positive'], ['negative'], ['positive'], ['positive'], ['negative'], ['positive'], ['neutral'], ['neutral'], ['negative'], ['neutral'], ['neutral'], ['negative'], ['neutral'], ['neutral'], ['negative'], ['neutral'], ['neutral'], ['neutral'], ['neutral'], ['neutral'], ['neutral'], ['neutral'], ['positive'], ['positive'], ['negative'], ['neutral'], ['neutral'], ['neutral'], ['positive'], ['neutral'], ['neutral'], ['negative'], ['negative'], ['neutral'], ['negative'], ['negative'], ['positive'], ['negative'], ['neutral'], ['neutral'], ['negative'], ['neutral'], ['negative'], ['neutral'], ['positive'], ['negative'], ['negative'], ['positive'], ['negative'], ['negative'], ['negative'], ['neutral'], ['negative'], ['neutral'], ['positive'], ['neutral'], ['negative'], ['positive'], ['neutral'], ['negative'], ['negative'], ['negative'], ['negative'], ['neutral'], ['neutral'], ['negative'], ['neutral'], ['negative'], ['negative'], ['neutral'], ['negative'], ['negative'], ['negative'], ['neutral'], ['negative'], ['negative'], ['negative'], ['neutral'], ['negative'], ['negative'], ['negative'], ['negative'], ['negative'], ['negative'], ['negative'], ['neutral'], ['negative'], ['neutral'], ['neutral'], ['negative'], ['positive'], ['negative'], ['negative'], ['neutral'], ['negative'], ['negative'], ['negative'], ['positive'], ['neutral'], ['neutral'], ['neutral'], ['negative'], ['negative'], ['negative'], ['negative'], ['positive'], ['positive'], ['positive'], ['positive'], ['positive'], ['positive'], ['positive'], ['positive'], ['neutral'], ['negative'], ['negative'], ['negative'], ['negative'], ['neutral'], ['positive'], ['neutral'], ['negative'], ['negative'], ['neutral'], ['positive'], ['positive'], ['negative'], ['negative'], ['negative'], ['neutral'], ['neutral'], ['negative'], ['negative'], ['neutral'], ['neutral'], ['neutral'], ['neutral'], ['neutral'], ['neutral'], ['neutral'], ['neutral'], ['neutral'], ['neutral'], ['negative'], ['neutral'], ['neutral'], ['negative'], ['neutral'], ['neutral'], ['neutral'], ['neutral'], ['neutral'], ['neutral'], ['negative'], ['negative'], ['neutral'], ['negative'], ['neutral'], ['negative'], ['neutral'], ['negative'], ['positive'], ['neutral'], ['neutral'], ['neutral'], ['neutral'], ['neutral'], ['neutral'], ['neutral'], ['neutral'], ['neutral'], ['neutral'], ['neutral'], ['neutral'], ['positive'], ['neutral'], ['neutral'], ['neutral'], ['neutral'], ['neutral'], ['neutral'], ['positive'], ['negative'], ['positive'], ['negative'], ['neutral'], ['neutral'], ['neutral'], ['neutral'], ['neutral'], ['neutral'], ['negative'], ['neutral'], ['neutral'], ['neutral'], ['neutral'], ['positive'], ['neutral'], ['neutral'], ['neutral'], ['neutral'], ['neutral'], ['neutral'], ['neutral'], ['neutral'], ['neutral'], ['neutral'], ['negative'], ['neutral'], ['neutral'], ['negative'], ['positive'], ['neutral'], ['negative'], ['negative'], ['negative'], ['negative'], ['neutral'], ['neutral'], ['negative'], ['negative'], ['negative'], ['negative'], ['negative'], ['negative'], ['negative'], ['negative'], ['negative'], ['negative'], ['negative'], ['negative'], ['negative'], ['negative'], ['negative'], ['positive'], ['negative'], ['negative'], ['negative'], ['negative'], ['negative'], ['negative'], ['negative'], ['neutral'], ['positive'], ['negative'], ['positive'], ['negative'], ['neutral'], ['positive'], ['negative'], ['neutral'], ['neutral'], ['neutral'], ['neutral'], ['negative'], ['neutral'], ['negative'], ['neutral'], ['negative'], ['neutral'], ['negative'], ['negative'], ['negative'], ['neutral'], ['negative'], ['negative'], ['negative'], ['neutral'], ['negative'], ['neutral'], ['negative'], ['neutral'], ['neutral'], ['neutral'], ['neutral'], ['neutral'], ['neutral'], ['neutral'], ['neutral'], ['negative'], ['negative'], ['neutral'], ['neutral'], ['neutral'], ['neutral'], ['neutral'], ['neutral'], ['neutral'], ['neutral'], ['positive'], ['neutral'], ['neutral'], ['negative'], ['neutral'], ['neutral'], ['neutral'], ['neutral'], ['neutral'], ['neutral'], ['neutral'], ['neutral'], ['neutral'], ['neutral'], ['neutral'], ['neutral'], ['neutral'], ['neutral'], ['neutral'], ['neutral'], ['negative'], ['neutral'], ['neutral'], ['neutral'], ['neutral'], ['neutral'], ['neutral'], ['neutral'], ['neutral'], ['neutral'], ['neutral'], ['neutral'], ['neutral'], ['neutral'], ['neutral'], ['neutral'], ['neutral'], ['negative'], ['neutral'], ['neutral'], ['neutral'], ['neutral'], ['neutral'], ['neutral'], ['neutral'], ['neutral'], ['neutral'], ['neutral'], ['neutral'], ['neutral'], ['neutral'], ['neutral'], ['neutral'], ['neutral'], ['neutral'], ['neutral'], ['neutral'], ['neutral'], ['neutral'], ['neutral'], ['neutral'], ['neutral'], ['neutral'], ['neutral'], ['neutral'], ['neutral'], ['neutral']]\n"
     ]
    }
   ],
   "source": [
    "print(label_rows)"
   ]
  },
  {
   "cell_type": "code",
   "execution_count": 10,
   "metadata": {},
   "outputs": [
    {
     "name": "stdout",
     "output_type": "stream",
     "text": [
      "当前行数据： ['2016-01-04 10:16', '431', 'A股韭菜小散', '是沪深300熔断吧']\n",
      "Input cannot be empty. Please try again.\n",
      "当前行数据： ['2016-01-04 10:16', '529', '佛缘7777', '为什么不溶断。']\n",
      "Input cannot be empty. Please try again.\n",
      "当前行数据： ['2016-01-04 10:16', '479', '勿忘心安40', '熔断是看主板的']\n",
      "Input cannot be empty. Please try again.\n",
      "当前行数据： ['2016-01-04 10:16', '162', 'A股涨停大咖', '试试融断好不好用']\n"
     ]
    }
   ],
   "source": [
    "def conv(i):\n",
    "    if i == 1:\n",
    "        return 'negative'\n",
    "    elif i ==2:\n",
    "        return 'neutral'\n",
    "    else :\n",
    "        return 'positive'\n",
    "\n",
    "\n",
    "bp = len(label_rows)\n",
    "for i in range(bp,len(data_rows)):\n",
    "\n",
    "    print(\"当前行数据：\", data_rows[i])\n",
    "    new_label = input(f\"Enter a label for row {i} (or 'q' to quit): \")\n",
    "    if new_label.lower() == 'q':\n",
    "        break\n",
    "    elif not new_label:  # 处理空输入\n",
    "        print(\"Input cannot be empty. Please try again.\")\n",
    "        continue\n",
    "    try: \n",
    "        label_rows.append(conv(new_label)) \n",
    "\n",
    "\n",
    "    except ValueError:\n",
    "        print(\"Invalid input. Please enter a number or 'q' to quit.\")"
   ]
  }
 ],
 "metadata": {
  "kernelspec": {
   "display_name": "finbert",
   "language": "python",
   "name": "finbert"
  },
  "language_info": {
   "codemirror_mode": {
    "name": "ipython",
    "version": 3
   },
   "file_extension": ".py",
   "mimetype": "text/x-python",
   "name": "python",
   "nbconvert_exporter": "python",
   "pygments_lexer": "ipython3",
   "version": "3.9.18"
  }
 },
 "nbformat": 4,
 "nbformat_minor": 2
}
